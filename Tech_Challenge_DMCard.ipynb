{
  "nbformat": 4,
  "nbformat_minor": 0,
  "metadata": {
    "colab": {
      "name": "Tech Challenge DMCard.ipynb",
      "provenance": [],
      "collapsed_sections": [],
      "authorship_tag": "ABX9TyNoZEQDIRkjUmTeTHgP0Phg",
      "include_colab_link": true
    },
    "kernelspec": {
      "name": "python3",
      "display_name": "Python 3"
    },
    "language_info": {
      "name": "python"
    }
  },
  "cells": [
    {
      "cell_type": "markdown",
      "metadata": {
        "id": "view-in-github",
        "colab_type": "text"
      },
      "source": [
        "<a href=\"https://colab.research.google.com/github/joaopaulorocha052/Adotapet/blob/master/Tech_Challenge_DMCard.ipynb\" target=\"_parent\"><img src=\"https://colab.research.google.com/assets/colab-badge.svg\" alt=\"Open In Colab\"/></a>"
      ]
    },
    {
      "cell_type": "markdown",
      "metadata": {
        "id": "l2-SsKDESWbh"
      },
      "source": [
        "\n",
        "Dada uma expressão qualquer com parênteses, indique se a quantidade de parênteses\n",
        " está correta ou não, sem levar em conta o restante da expressão. Por exemplo:\n",
        "a+(b*c)-2-a está correto \n",
        "(a+b*(2-c)-2+a)*2 está correto\n",
        "*enquanto*\n",
        "(ab-(2+c) está incorreto \n",
        "2(3-a)) está incorreto \n",
        ")3+b*(2-c)( está incorreto"
      ]
    },
    {
      "cell_type": "code",
      "metadata": {
        "id": "ZJ-aUtmkSVPH"
      },
      "source": [
        "#Le a quantidade de expressoes que o usuario desesja consultar\n",
        "numExpression = input(\"Digite a quantidade de expressoes: \")\n",
        "#verifica se o numero esta correto\n",
        "while numExpression == \"\" or numExpression.isdigit() == False:\n",
        "  numExpression = input(\"Digite a quantidade correta de expressoes: \")\n",
        "#transforma numExpression em inteiro\n",
        "numExpression = int(numExpression)\n",
        "i=0\n",
        "#enquanto i for menor que numExpression\n",
        "while i < numExpression:\n",
        "    #inicia a lista e outras variaveis\n",
        "    list = []\n",
        "    expressionCount = 0\n",
        "    aux = 0\n",
        "    close = None\n",
        "    #pede a expressao que o usuario deseja verificar\n",
        "    expression = input(\"Digite a expressao desejada: \")\n",
        "    #roda toda e string da expressao e verifica os parenteses.\n",
        "    #Se k for um '(', ele sera adicionado a lista.\n",
        "    #Se K for um ')', o ultimo parenteses da lista sera retirado, de forma a manter a\n",
        "    #quantidade de abre e fecha parenteses igual.\n",
        "    #caso a lista ja esteja vazia, imprime 'incorrect'\n",
        "    for k in expression:\n",
        "        if k == \"(\":\n",
        "            list.append(k)\n",
        "        elif k == \")\":\n",
        "            if len(list) != 0:\n",
        "                close = list.pop()  \n",
        "            else:\n",
        "                print(\"incorrect\")\n",
        "                aux = 1\n",
        "                break\n",
        "    #Verifica se a expressao esta correta ou nao.\n",
        "    #Se estiver correta, imprime 'correct'.\n",
        "    #Se estiver errada, imprime 'incorrect'.\n",
        "    if aux == 0:\n",
        "        if len(list) == 0:\n",
        "            expressionCount = 1\n",
        "        if expressionCount != 0:\n",
        "            print(\"correct\")\n",
        "        else: \n",
        "            print(\"incorrect\")\n",
        "    i += 1"
      ],
      "execution_count": null,
      "outputs": []
    }
  ]
}